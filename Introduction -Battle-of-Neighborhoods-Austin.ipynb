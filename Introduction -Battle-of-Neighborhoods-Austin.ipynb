{
    "cells": [
        {
            "cell_type": "markdown",
            "metadata": {},
            "source": "# Battle of the Neighborhoods in Austin, TX - Where to open a Indian restaurant?"
        },
        {
            "cell_type": "markdown",
            "metadata": {},
            "source": "This project aims to utilize data science concepts and machine learning tools learned in the Coursera IBM Data Science Professional Certificate Course to solve a popular problem for restaurant owners: where is the best neighborhood to open a restaurant? In this project, I will go through the processes of problem definition, data preparation, and use machine learning to improve business decisions."
        },
        {
            "cell_type": "markdown",
            "metadata": {},
            "source": "## Introduction"
        },
        {
            "cell_type": "markdown",
            "metadata": {},
            "source": "Austin is the capital of Texas in the United States and is one of the fastest growing cities in America. It was recently voted the No. 1 place to live in America for the third year in a row (U.S. News & World Report) and was ranked No.4 of the best large cities to start a business (WalletHub). According to Austin City Government, the City of Austin has crossed the threshold of becoming a Majority-Minority city, meaning that no demographic group exists as a majority of the City's population. One notable trend is the growing number of Latino and Asian households.\n\nBeing a fast-growing city with diverse ethnicities, Austin is a great place for entrepreneurs to start and grow their business. The city is also well known for its outstanding food and great live music venues.\n\nHaving lived in Austin for almost four years, I have always wondered why there aren't many authentic Indian restaurants in the Austin area and would love to see more. The objective of this project is to segment and cluster the neighborhoods of Austin using different data sources including Foursquare location data to find the 'best' neighborhood to open a Indian restaurant based on the venues in the area. I will\n\ncollect neighborhood data from Austin City Government,\n\nuse Google Geocoding API to find the approximate coordinates of the neighborhoods,\n\nuse Foursquare API to find the top 100 venues within a radius of 1500 meters of the center of the neighborhoods,\n\nrun k-means clustering on the data to cluster neighborhoods,\n\nand I will also analyze demographic data for the neighborhoods and discuss data-driven decision making for a new Indian restaurant business in the city of Austin.\n\nI'm excited to use my newly learned skills to explore Austin with data, let's begin!"
        },
        {
            "cell_type": "markdown",
            "metadata": {},
            "source": "## Target Audience/ Business Problem"
        },
        {
            "cell_type": "markdown",
            "metadata": {},
            "source": "The target audience of this project would be anyone that is interested in opening or growing a Indian restaurant in Austin, TX. The cluster analysis of Austin neighborhoods and demographic data will help entrepreneurs make an informed decision about which neighborhoods to aim for."
        },
        {
            "cell_type": "markdown",
            "metadata": {},
            "source": "## Data Acquisition and Cleaning"
        },
        {
            "cell_type": "markdown",
            "metadata": {},
            "source": "## 1. Data Sources"
        },
        {
            "cell_type": "markdown",
            "metadata": {},
            "source": "To begin with, I gathered data on the reporting neighborhoods in the city of Austin. The neighborhood data I found is from the Housing and Planning Department of the Austin City Government: https://data.austintexas.gov/Building-and-Development/Neighborhoods/a7ap-j2yt; this dataset includes the names and geometric information of the different neighborhoods, and their sizes and shapes."
        },
        {
            "cell_type": "markdown",
            "metadata": {},
            "source": "At the start of this project, we defined a business problem: where to open a Indian restaurant in Austin, TX? Then we collected the neighborhood zoning information from Austin City government and used Google Geocoding API to find the approximate coordinates for those neighborhoods. We then used Foursquare API to discover the 100 venues within the radius of 1500 meters in each neighborhood and took the average frequency of Indian restaurants in comparison to other venues. Using clustering algorithm, we grouped the neighborhoods in a total of 5 clusters, with Cluster 0 having the lowest average frequency of Indian restaurants. Finally, we compared the clusters to the neighborhood demographic data provided by the government and found that the neighborhoods with the highest percentages of Asian population don't have a very high frequency of Indian restaurants. Then I concluded that Anderson Mill is the best neighborhood to open a Indian restaurant based on our cluster analysis and the demographic data.\n\nOverall, this project was a great practice utilizing data science concepts and machine learning algorithms. I also believe that this project would give our target audience a starting point to consider the possibility and value of a new Indian restaurant in a given neighborhood in Austin, TX. Our analysis on Austin demographics also gives an idea of where Asian population is concentrated in Austin, which could be one of the factors to consider when opening an Asian or Indian restaurant. Note that the population data is from the 2010 Census, which means that it is likely that the Asian population has gone up since then, which makes opening a Indian restaurant even more promising. And plus, everyone loves Indian food, right?"
        },
        {
            "cell_type": "code",
            "execution_count": null,
            "metadata": {},
            "outputs": [],
            "source": ""
        }
    ],
    "metadata": {
        "kernelspec": {
            "display_name": "Python 3.7",
            "language": "python",
            "name": "python3"
        },
        "language_info": {
            "codemirror_mode": {
                "name": "ipython",
                "version": 3
            },
            "file_extension": ".py",
            "mimetype": "text/x-python",
            "name": "python",
            "nbconvert_exporter": "python",
            "pygments_lexer": "ipython3",
            "version": "3.7.9"
        }
    },
    "nbformat": 4,
    "nbformat_minor": 1
}